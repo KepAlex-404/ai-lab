{
  "cells": [
    {
      "cell_type": "markdown",
      "metadata": {
        "id": "mxImKw1UhQl7"
      },
      "source": [
        "<a href=\"https://colab.research.google.com/github/YKochura/ai-lab/blob/main/linear-regression/linear_regression.ipynb\" target=\"_parent\"><img src=\"https://colab.research.google.com/assets/colab-badge.svg\" alt=\"Open In Colab\"/></a>"
      ]
    },
    {
      "cell_type": "markdown",
      "metadata": {
        "id": "q2XBnP5_Z0pD"
      },
      "source": [
        "**Лінійна регресія** &mdash; статистичний регресійний метод, який застосовують для моделювання взаємозв'язку між скалярною залежною змінною $\\hat{y}$ та однією або кількома незалежними змінними $\\boldsymbol X$.\n",
        "\n",
        "Наприклад, ми можемо за допомогою лінійної регресії передбачати значення неперервної залежної змінної: температуру повітря, ціну акацій, тощо, використовуючи додаткову інформацію, яка характеризує задачу і представлена  в незалежній змінній $\\boldsymbol X$. Ця додаткова інформація представляє собою набір вхідних ознак за якими буде здійснюватись моделювання.\n"
      ]
    },
    {
      "cell_type": "markdown",
      "metadata": {
        "id": "b_Lh31rnBI5b",
        "tags": [
          "graph"
        ]
      },
      "source": [
        "# Модель лінійної регресії\n",
        "\n",
        "![](https://docs.google.com/uc?export=download&id=1FAY4ZeGCJ1n14d14LtivoYDsz-LhgUpH)\n",
        "\n",
        "Метод лінійної регресії полягає у знаходженні лінійної комбінації вхідних ознак (зважена сума) з урахуванням зміщення.\n",
        "\n",
        "$$\\hat y = z = \\sum_{i=1}^m w_i x_i  + b$$\n",
        "\n",
        "\n"
      ]
    },
    {
      "cell_type": "markdown",
      "metadata": {
        "id": "sfQwoDlx-YHi"
      },
      "source": [
        "Для вирішення задачі\n",
        "\n",
        "**Дано:**\n",
        "\n",
        "- Навчальний набір: $\\{(\\boldsymbol{X}^{(1)}, y^{(1)}), (\\boldsymbol{X}^{(2)}, y^{(2)}),..., (\\boldsymbol{X}^{(n)}, y^{(n)})\\}$\n",
        "\n",
        "  - де $\\boldsymbol{X}^{(i)}$ &mdash;  $i$-й навчальний приклад. Є $m$-вимірним вектором-стовпцем $\\boldsymbol{X}^{(i)} = (x^{(i)}_1, x^{(i)}_2, ..., x^{(i)}_m)$\n",
        "  - $n$ &mdash; загальна кількість навчальних прикладів\n",
        "  - $y^{(i)}$ &mdash; дійсне цільове значення $i$-го навчального прикладу , $y^{(i)} \\in \\mathbb{R}$\n",
        "\n",
        "Модель лінійної регресії:\n",
        "\n",
        "- має вектор-рядок дійсних значень ваг $\\boldsymbol{W} = \\begin{bmatrix}\n",
        "w_1 & w_2 & \\cdots & w_m\n",
        "\\end{bmatrix}$\n",
        "- має дійсне значення зміщення $b$\n"
      ]
    },
    {
      "cell_type": "markdown",
      "metadata": {
        "id": "5wtEFeieFmwI"
      },
      "source": [
        "# Навчання\n",
        "\n",
        "Ми можемо навчити модель, використовуючи градієнтний спуск. Фактично, **градієнтний спуск** або будь-який інший алгоритм оптимізації дозволяє знайти глобальний мінімум цільової функції, якщо підбрано оптимальну швидкість навчання та виконано достатню кількість ітерацій навчання.\n",
        "\n",
        "Навчання лінійної регресії має різні етапи. На початку (крок 0) ініціалізуються параметри моделі. Інші кроки повторюються протягом певної кількості епох (навчальних ітерацій).\n",
        "\n",
        "**Крок 0:** Ініціалізувати ваги та зсув (наприклад, випадковими значеннями з нормального розподілу)\n",
        "\n",
        "**Крок 1:** Обчислити лінійну комбінацію вхідних ознак та ваг і додати зсув.  Це можна зробити за один крок для всіх навчальних прикладів, використовуючи [векторизацію (vectorization)](https://www.geeksforgeeks.org/vectorization-in-python/) та  [трансляцію (broadcasting)](https://www.geeksforgeeks.org/python-broadcasting-with-numpy-arrays/)\n",
        "\n",
        "$$z = W \\cdot X + b$$\n",
        "\n",
        "де $\\cdot$ скалярний добуток (поелементний добуток), $W$ &mdash;  вектор-рядок ваг з формою $(1, m)$, $X$ &mdash; матриця форми $(m, n)$.\n",
        "\n",
        "\n",
        "**Крок 2:** Обчислити усереднену втрату на всьому навчальному наборі даних. Функцію, яка визначає усереднені втрати на всьому навчальному наборі даних, часто називають цільовою функцією або імпіричним ризиком. Основна задача оптимізаційного алгоритму &mdash;  мінімізувати у процесі навчання цільову функцію на стільки, на скільки це можливо, не втрачаючи при цьому здатності моделі узагальнювати на нових даних. Для лінійної регресії будемо розраховувати середнє квадратичне відхилення:\n",
        "\n",
        "$$\\mathcal{J}(\\hat y,y)  = \\frac{1}{n} \\sum_{i=1}^n \\Big(\\hat{y}^{(i)} -  y^{(i)} \\Big)^2$$\n",
        "\n",
        "**Крок 3:** Розрахувати градієнти цільвої функції відносно ваг та зсуву:\n",
        "\n",
        "$$\\boxed{\\begin{aligned}\n",
        "\\frac{\\partial \\mathcal{J}(\\hat y, y)}{\\partial \\hat y} &= \\frac{2}{n} \\sum_{i=1}^n \\Big(\\hat{y}^{(i)} -  y^{(i)} \\Big) x^{(i)}   \\\\[12pt]\n",
        "\\frac{\\partial \\mathcal{J}(\\hat y, y)}{\\partial b} &=  \\frac{2}{n} \\sum_{i=1}^n \\Big(\\hat{y}^{(i)} -  y^{(i)} \\Big)\n",
        "\\end{aligned}}$$\n",
        "\n",
        "**Крок 4:** Оновити ваги та зсув моделі:\n",
        "\n",
        "$$\\boxed{\\begin{aligned}\n",
        "W &= W - \\alpha \\frac{\\partial \\mathcal{L}(\\hat y, y)}{\\partial W} \\\\[12pt]\n",
        "b &= b - \\alpha \\frac{\\partial \\mathcal{L}(\\hat y, y)}{\\partial b}\n",
        "\\end{aligned}}$$\n",
        "\n",
        "де $\\alpha$ &mdash; швидкість навчання (крок навчання)."
      ]
    },
    {
      "cell_type": "markdown",
      "metadata": {
        "id": "WU31wxOL_iBb"
      },
      "source": [
        "# Імпортупвання бібліотек"
      ]
    },
    {
      "cell_type": "code",
      "execution_count": 1,
      "metadata": {
        "id": "19xicNjUYyKR"
      },
      "outputs": [],
      "source": [
        "import numpy as np\n",
        "import matplotlib.pyplot as plt\n",
        "from sklearn.model_selection import train_test_split\n",
        "\n",
        "np.random.seed(123)"
      ]
    },
    {
      "cell_type": "code",
      "source": [
        "x = np.array([6, 15, 24, 33, 41, 52, 59, 66, 73, 81])\n",
        "y = np.array([5, 10, 15, 20, 28, 30, 35, 40, 45, 50])\n",
        "\n",
        "coef = np.polyfit(x, y, 1)\n",
        "poly1d_fn = np.poly1d(coef)  # to create a linear function with coefficients\n",
        "\n",
        "plt.plot(x, y, 'ro', x, poly1d_fn(x), '-b')\n",
        "plt.errorbar(x, poly1d_fn(x), yerr=abs(poly1d_fn(x) - y), fmt='.k')\n",
        "plt.show()"
      ],
      "metadata": {
        "id": "5tu7KCaAizfv",
        "outputId": "8ebcd0d6-0594-4c2e-ca28-52dc24d7c955",
        "colab": {
          "base_uri": "https://localhost:8080/",
          "height": 430
        }
      },
      "execution_count": null,
      "outputs": [
        {
          "output_type": "display_data",
          "data": {
            "text/plain": [
              "<Figure size 640x480 with 1 Axes>"
            ],
            "image/png": "[encoded data removed]"
          },
          "metadata": {}
        }
      ]
    },
    {
      "cell_type": "markdown",
      "metadata": {
        "id": "bRVwKii8_98N"
      },
      "source": [
        "## Датасет"
      ]
    },
    {
      "cell_type": "code",
      "execution_count": 2,
      "metadata": {
        "colab": {
          "base_uri": "https://localhost:8080/",
          "height": 564
        },
        "id": "m1UzCusBypep",
        "outputId": "c93d3ea2-a05e-4fd6-a4df-62d67d5b7b42"
      },
      "outputs": [
        {
          "output_type": "display_data",
          "data": {
            "text/plain": [
              "<Figure size 800x600 with 1 Axes>"
            ],
            "image/png": "[encoded data removed]"
          },
          "metadata": {}
        }
      ],
      "source": [
        "# We will use a simple training set\n",
        "X = 2 * np.random.rand(30, 1)\n",
        "y = 4 + 3 * X + np.random.randn(30, 1)\n",
        "\n",
        "fig = plt.figure(figsize=(8,6))\n",
        "plt.scatter(X, y)\n",
        "plt.title(\"Набір даних\")\n",
        "plt.xlabel(\"$X$\")\n",
        "plt.ylabel(\"$y$\")\n",
        "plt.show()"
      ]
    },
    {
      "cell_type": "markdown",
      "metadata": {
        "id": "Df9GYUGXBDH9"
      },
      "source": [
        "## Поділ набору даних"
      ]
    },
    {
      "cell_type": "code",
      "execution_count": 3,
      "metadata": {
        "colab": {
          "base_uri": "https://localhost:8080/"
        },
        "id": "y_eclhoHTp1F",
        "outputId": "3d2ddf3b-174b-4b4e-a959-7b5ae98a02a4"
      },
      "outputs": [
        {
          "output_type": "stream",
          "name": "stdout",
          "text": [
            "Shape X_train: (22, 1)\n",
            "Shape y_train: (22, 1)\n",
            "Shape X_test: (8, 1)\n",
            "Shape y_test: (8, 1)\n"
          ]
        }
      ],
      "source": [
        "# Split the data into a training and test set\n",
        "X_train, X_test, y_train, y_test = train_test_split(X, y)\n",
        "\n",
        "print(f'Shape X_train: {X_train.shape}')\n",
        "print(f'Shape y_train: {y_train.shape}')\n",
        "print(f'Shape X_test: {X_test.shape}')\n",
        "print(f'Shape y_test: {y_test.shape}')"
      ]
    },
    {
      "cell_type": "code",
      "source": [
        "X_train[:,0].shape"
      ],
      "metadata": {
        "id": "afdB9_DXqXnv",
        "outputId": "e9abcd36-bbd2-410e-caa3-6461e6f669e0",
        "colab": {
          "base_uri": "https://localhost:8080/"
        }
      },
      "execution_count": 4,
      "outputs": [
        {
          "output_type": "execute_result",
          "data": {
            "text/plain": [
              "(22,)"
            ]
          },
          "metadata": {},
          "execution_count": 4
        }
      ]
    },
    {
      "cell_type": "code",
      "source": [
        "coef = np.polyfit(X_train[:,0], y_train[:,0], 1)\n",
        "poly1d_fn = np.poly1d(coef)  # to create a linear function with coefficients\n",
        "\n",
        "fig = plt.figure(figsize=(8,6))\n",
        "# ypoints = np.array([4, 7, 10])\n",
        "\n",
        "# plt.plot(ypoints, linestyle = 'solid')\n",
        "plt.plot(X_train[:,0], y_train[:,0], 'go', X_train[:,0], poly1d_fn(X_train[:,0]), '-b')\n",
        "plt.errorbar(X_train[:,0], poly1d_fn(X_train[:,0]), yerr=abs(poly1d_fn(X_train[:,0]) - y_train[:,0]),  lolims=low, uplims = up, fmt='.k')\n",
        "# plt.scatter(X_train, y_train)\n",
        "plt.title(\"Навчальний набір даних\")\n",
        "plt.xlabel(\"$X$\")\n",
        "plt.ylabel(\"$y$\")\n",
        "plt.show()"
      ],
      "metadata": {
        "colab": {
          "base_uri": "https://localhost:8080/",
          "height": 564
        },
        "id": "vrYpWAibdMVC",
        "outputId": "2ab3dc93-c3c7-41e1-923e-7a6c6d2294ed"
      },
      "execution_count": 29,
      "outputs": [
        {
          "output_type": "display_data",
          "data": {
            "text/plain": [
              "<Figure size 800x600 with 1 Axes>"
            ],
            "image/png": "[encoded data removed]"
          },
          "metadata": {}
        }
      ]
    },
    {
      "cell_type": "code",
      "source": [
        "poly1d_fn(X_train[:,0])"
      ],
      "metadata": {
        "id": "OUga4CwR_pB5",
        "outputId": "3d53f0f4-4d95-4dc3-8623-b26b2bd910b3",
        "colab": {
          "base_uri": "https://localhost:8080/"
        }
      },
      "execution_count": 10,
      "outputs": [
        {
          "output_type": "execute_result",
          "data": {
            "text/plain": [
              "array([6.80086296, 6.45167116, 8.10243283, 5.62456469, 4.99866555,\n",
              "       8.24132215, 7.7069384 , 5.96900546, 5.27506695, 4.9561531 ,\n",
              "       7.72762002, 6.54506474, 8.27143336, 5.67030627, 6.08138995,\n",
              "       6.30032746, 7.5864501 , 6.26453754, 9.81921155, 8.2592838 ,\n",
              "       7.10820789, 7.22588557])"
            ]
          },
          "metadata": {},
          "execution_count": 10
        }
      ]
    },
    {
      "cell_type": "code",
      "source": [
        " y_train[:,0]"
      ],
      "metadata": {
        "id": "XOBesvDm_trn",
        "outputId": "236a4ba8-cd8d-47ac-c3a8-fe7315078892",
        "colab": {
          "base_uri": "https://localhost:8080/"
        }
      },
      "execution_count": 11,
      "outputs": [
        {
          "output_type": "execute_result",
          "data": {
            "text/plain": [
              "array([ 6.88843732,  5.83876153,  8.03874639,  4.85508111,  5.43353943,\n",
              "        6.54528071,  9.54074293,  5.17953175,  6.43889535,  5.04088004,\n",
              "        8.78514176,  5.82606695,  7.05264663,  6.65299067,  6.20041516,\n",
              "        5.99736574,  6.62735285,  7.04092782, 10.81204762, 10.07837252,\n",
              "        7.60387768,  4.50929951])"
            ]
          },
          "metadata": {},
          "execution_count": 11
        }
      ]
    },
    {
      "cell_type": "code",
      "source": [
        "up = poly1d_fn(X_train[:,0]) - y_train[:,0] > 0"
      ],
      "metadata": {
        "id": "RSGT0zu9_xu1"
      },
      "execution_count": 22,
      "outputs": []
    },
    {
      "cell_type": "code",
      "source": [
        "up"
      ],
      "metadata": {
        "id": "L-5sT1d_CwQN",
        "outputId": "bfa8c6b7-de22-42ce-d51f-627f2407aae5",
        "colab": {
          "base_uri": "https://localhost:8080/"
        }
      },
      "execution_count": 23,
      "outputs": [
        {
          "output_type": "execute_result",
          "data": {
            "text/plain": [
              "array([False,  True,  True,  True, False,  True, False,  True, False,\n",
              "       False, False,  True,  True, False, False,  True,  True, False,\n",
              "       False, False, False,  True])"
            ]
          },
          "metadata": {},
          "execution_count": 23
        }
      ]
    },
    {
      "cell_type": "code",
      "source": [
        "low= poly1d_fn(X_train[:,0]) - y_train[:,0] < 0\n",
        "low"
      ],
      "metadata": {
        "id": "kWxUyn1vD8Um",
        "outputId": "bbb9c94b-e6f3-4322-8789-491e9850fbbf",
        "colab": {
          "base_uri": "https://localhost:8080/"
        }
      },
      "execution_count": 27,
      "outputs": [
        {
          "output_type": "execute_result",
          "data": {
            "text/plain": [
              "array([ True, False, False, False,  True, False,  True, False,  True,\n",
              "        True,  True, False, False,  True,  True, False, False,  True,\n",
              "        True,  True,  True, False])"
            ]
          },
          "metadata": {},
          "execution_count": 27
        }
      ]
    },
    {
      "cell_type": "code",
      "source": [
        "fig = plt.figure(figsize=(8,6))\n",
        "plt.scatter(X_test, y_train)\n",
        "plt.title(\"Навчальний набір даних\")\n",
        "plt.xlabel(\"$X$\")\n",
        "plt.ylabel(\"$y$\")\n",
        "plt.show()"
      ],
      "metadata": {
        "colab": {
          "base_uri": "https://localhost:8080/",
          "height": 564
        },
        "id": "G28koYV8ddqK",
        "outputId": "dd8843a3-e8c1-4ffa-f0d6-24359e5ef5d9"
      },
      "execution_count": null,
      "outputs": [
        {
          "output_type": "display_data",
          "data": {
            "text/plain": [
              "<Figure size 800x600 with 1 Axes>"
            ],
            "image/png": "[encoded data removed]"
          },
          "metadata": {}
        }
      ]
    },
    {
      "cell_type": "code",
      "execution_count": null,
      "metadata": {
        "id": "AX1vxfwdibB5"
      },
      "outputs": [],
      "source": [
        "n_samples, m_features = X_train.shape"
      ]
    },
    {
      "cell_type": "code",
      "execution_count": null,
      "metadata": {
        "colab": {
          "base_uri": "https://localhost:8080/"
        },
        "id": "n5GvnD6RV4y7",
        "outputId": "bcb4c3c4-3382-4360-d93e-d94b8f4f7d01"
      },
      "outputs": [
        {
          "output_type": "execute_result",
          "data": {
            "text/plain": [
              "22"
            ]
          },
          "metadata": {},
          "execution_count": 35
        }
      ],
      "source": [
        "n_samples"
      ]
    },
    {
      "cell_type": "code",
      "execution_count": null,
      "metadata": {
        "colab": {
          "base_uri": "https://localhost:8080/"
        },
        "id": "1IobjfGIV_Zl",
        "outputId": "07476954-f8b1-4445-f70c-305d78d3b3b8"
      },
      "outputs": [
        {
          "output_type": "execute_result",
          "data": {
            "text/plain": [
              "1"
            ]
          },
          "metadata": {},
          "execution_count": 36
        }
      ],
      "source": [
        "m_features"
      ]
    },
    {
      "cell_type": "markdown",
      "metadata": {
        "id": "LKNT3Y2TWMMV"
      },
      "source": [
        "## Змінюємо форму $X$ та $y$ обох вибірок\n",
        "$X = \\text{X_train}$, 𝑋 — матриця форми (𝑚, 𝑛)."
      ]
    },
    {
      "cell_type": "code",
      "execution_count": null,
      "metadata": {
        "id": "Prp2FmnXXFGO"
      },
      "outputs": [],
      "source": [
        "X_train = X_train.reshape((m_features, n_samples))"
      ]
    },
    {
      "cell_type": "code",
      "execution_count": null,
      "metadata": {
        "colab": {
          "base_uri": "https://localhost:8080/"
        },
        "id": "AUGjA27pSjYe",
        "outputId": "8104f772-fb9d-45d5-8531-ef479611ce4f"
      },
      "outputs": [
        {
          "output_type": "execute_result",
          "data": {
            "text/plain": [
              "(1, 22)"
            ]
          },
          "metadata": {},
          "execution_count": 38
        }
      ],
      "source": [
        "X_train.shape"
      ]
    },
    {
      "cell_type": "code",
      "execution_count": null,
      "metadata": {
        "id": "iSTdZFc4e3Ge"
      },
      "outputs": [],
      "source": [
        "X_test = X_test.reshape((X_test.shape[1], X_test.shape[0]))"
      ]
    },
    {
      "cell_type": "code",
      "execution_count": null,
      "metadata": {
        "colab": {
          "base_uri": "https://localhost:8080/"
        },
        "id": "4KWmQx2PfP9i",
        "outputId": "5220f225-ead4-46c9-da29-72b62c15c16c"
      },
      "outputs": [
        {
          "output_type": "execute_result",
          "data": {
            "text/plain": [
              "(1, 8)"
            ]
          },
          "metadata": {},
          "execution_count": 40
        }
      ],
      "source": [
        "X_test.shape"
      ]
    },
    {
      "cell_type": "code",
      "execution_count": null,
      "metadata": {
        "id": "kzcvCcH4Snws"
      },
      "outputs": [],
      "source": [
        "y_train = y_train.reshape((m_features,n_samples))"
      ]
    },
    {
      "cell_type": "code",
      "execution_count": null,
      "metadata": {
        "colab": {
          "base_uri": "https://localhost:8080/"
        },
        "id": "aZoaATzXS15a",
        "outputId": "a62177da-603f-4875-e633-75533fb5ff64"
      },
      "outputs": [
        {
          "output_type": "execute_result",
          "data": {
            "text/plain": [
              "(1, 22)"
            ]
          },
          "metadata": {},
          "execution_count": 42
        }
      ],
      "source": [
        "y_train.shape"
      ]
    },
    {
      "cell_type": "code",
      "execution_count": null,
      "metadata": {
        "id": "6KwrnTB3e0nM"
      },
      "outputs": [],
      "source": [
        "y_test = y_test.reshape((y_test.shape[1], y_test.shape[0]))"
      ]
    },
    {
      "cell_type": "code",
      "execution_count": null,
      "metadata": {
        "colab": {
          "base_uri": "https://localhost:8080/"
        },
        "id": "8qQ-YAoMfayB",
        "outputId": "33dd345d-1641-4853-8c42-ed33108b5f61"
      },
      "outputs": [
        {
          "output_type": "execute_result",
          "data": {
            "text/plain": [
              "(1, 8)"
            ]
          },
          "metadata": {},
          "execution_count": 44
        }
      ],
      "source": [
        "y_test.shape"
      ]
    },
    {
      "cell_type": "markdown",
      "metadata": {
        "id": "Qpq48noEKJgY"
      },
      "source": [
        "### Крок 0: Ініціалізувати ваги та зсув"
      ]
    },
    {
      "cell_type": "code",
      "execution_count": null,
      "metadata": {
        "id": "bfkqaTCL27hF",
        "tags": [
          "parameters_inititalization"
        ]
      },
      "outputs": [],
      "source": [
        "# TODO\n",
        "def parameters_inititalization(m):\n",
        "  \"\"\"\n",
        "  Ця функція ініціалізує вектор-рядок випадкових дійсних значень ваг форми (1, m),\n",
        "  отриманих з нормального розподілу та зсув (довільне дійсне значення)\n",
        "\n",
        "  Параметри:\n",
        "  m -- кількість вхідних ознак для кожного навчального прикладу\n",
        "\n",
        "  Повертає:\n",
        "  W -- вектор-рядок ваг форми (1, m)\n",
        "  b -- зсув (скаляр)\n",
        "  \"\"\"\n",
        "\n",
        "  # BEGIN_YOUR_CODE\n",
        "  raise Exception(\"Not implemented yet\")\n",
        "  # END_YOUR_CODE"
      ]
    },
    {
      "cell_type": "code",
      "execution_count": null,
      "metadata": {
        "id": "Cjoi0Pi0eIl9"
      },
      "outputs": [],
      "source": [
        "W, b = parameters_inititalization(m_features)"
      ]
    },
    {
      "cell_type": "code",
      "execution_count": null,
      "metadata": {
        "colab": {
          "base_uri": "https://localhost:8080/"
        },
        "id": "Z_nNfaRGdLGO",
        "outputId": "bdb79666-e291-4e4d-fa59-d2bbbeaecae0"
      },
      "outputs": [
        {
          "data": {
            "text/plain": [
              "array([[0.]])"
            ]
          },
          "execution_count": 17,
          "metadata": {},
          "output_type": "execute_result"
        }
      ],
      "source": [
        "W"
      ]
    },
    {
      "cell_type": "code",
      "execution_count": null,
      "metadata": {
        "colab": {
          "base_uri": "https://localhost:8080/"
        },
        "id": "AVUfQgU3dRoj",
        "outputId": "c6e2f4bc-881a-4e36-8804-24075b4c8585"
      },
      "outputs": [
        {
          "data": {
            "text/plain": [
              "(1, 1)"
            ]
          },
          "execution_count": 18,
          "metadata": {},
          "output_type": "execute_result"
        }
      ],
      "source": [
        "W.shape"
      ]
    },
    {
      "cell_type": "code",
      "execution_count": null,
      "metadata": {
        "colab": {
          "base_uri": "https://localhost:8080/"
        },
        "id": "PGyt_i05dT_r",
        "outputId": "a02f8921-3a1b-4355-ae25-2e928ba281bd"
      },
      "outputs": [
        {
          "data": {
            "text/plain": [
              "0"
            ]
          },
          "execution_count": 19,
          "metadata": {},
          "output_type": "execute_result"
        }
      ],
      "source": [
        "b"
      ]
    },
    {
      "cell_type": "markdown",
      "metadata": {
        "id": "SMLPcw7gNZ1d"
      },
      "source": [
        "\n",
        "\n",
        "### Крок 1: Обчислити лінійну комбінацію вхідних ознак та ваг, включаючи зсув\n",
        "\n"
      ]
    },
    {
      "cell_type": "code",
      "execution_count": null,
      "metadata": {
        "id": "sHg5Sh8bdV3J",
        "tags": [
          "forwardPropagate"
        ]
      },
      "outputs": [],
      "source": [
        "# TODO\n",
        "def forwardPropagate(X, W, b):\n",
        "  \"\"\"\n",
        "  Ця функція обчислює лінійну комбінацію вхідних ознак та ваг, включаючи зсув\n",
        "\n",
        "  Параметри:\n",
        "  X -- вхідний вектор ознак форми (1, 375)\n",
        "  W -- вектор-рядок ваг форми (1, m)\n",
        "  b -- зсув моделі (скаляр)\n",
        "\n",
        "  Повертає:\n",
        "  z -- загальна зважена сума вхідних ознак, включаючи зсув\n",
        "  y_hat -- прогноз моделі\n",
        "  \"\"\"\n",
        "\n",
        "  # BEGIN_YOUR_CODE\n",
        "  raise Exception(\"Not implemented yet\")\n",
        "  # END_YOUR_CODE"
      ]
    },
    {
      "cell_type": "code",
      "execution_count": null,
      "metadata": {
        "id": "94IMy1_2dfuQ"
      },
      "outputs": [],
      "source": [
        "z, y_hat = forwardPropagate(X_train, W, b)"
      ]
    },
    {
      "cell_type": "code",
      "execution_count": null,
      "metadata": {
        "colab": {
          "base_uri": "https://localhost:8080/"
        },
        "id": "JF67K5RJiEux",
        "outputId": "5f29e820-a24b-43d0-ce42-c45aa9884542"
      },
      "outputs": [
        {
          "data": {
            "text/plain": [
              "array([[0., 0., 0., 0., 0., 0., 0., 0., 0., 0., 0., 0., 0., 0., 0., 0.,\n",
              "        0., 0., 0., 0., 0., 0., 0., 0., 0., 0., 0., 0., 0., 0., 0., 0.,\n",
              "        0., 0., 0., 0., 0., 0., 0., 0., 0., 0., 0., 0., 0., 0., 0., 0.,\n",
              "        0., 0., 0., 0., 0., 0., 0., 0., 0., 0., 0., 0., 0., 0., 0., 0.,\n",
              "        0., 0., 0., 0., 0., 0., 0., 0., 0., 0., 0., 0., 0., 0., 0., 0.,\n",
              "        0., 0., 0., 0., 0., 0., 0., 0., 0., 0., 0., 0., 0., 0., 0., 0.,\n",
              "        0., 0., 0., 0., 0., 0., 0., 0., 0., 0., 0., 0., 0., 0., 0., 0.,\n",
              "        0., 0., 0., 0., 0., 0., 0., 0., 0., 0., 0., 0., 0., 0., 0., 0.,\n",
              "        0., 0., 0., 0., 0., 0., 0., 0., 0., 0., 0., 0., 0., 0., 0., 0.,\n",
              "        0., 0., 0., 0., 0., 0., 0., 0., 0., 0., 0., 0., 0., 0., 0., 0.,\n",
              "        0., 0., 0., 0., 0., 0., 0., 0., 0., 0., 0., 0., 0., 0., 0., 0.,\n",
              "        0., 0., 0., 0., 0., 0., 0., 0., 0., 0., 0., 0., 0., 0., 0., 0.,\n",
              "        0., 0., 0., 0., 0., 0., 0., 0., 0., 0., 0., 0., 0., 0., 0., 0.,\n",
              "        0., 0., 0., 0., 0., 0., 0., 0., 0., 0., 0., 0., 0., 0., 0., 0.,\n",
              "        0., 0., 0., 0., 0., 0., 0., 0., 0., 0., 0., 0., 0., 0., 0., 0.,\n",
              "        0., 0., 0., 0., 0., 0., 0., 0., 0., 0., 0., 0., 0., 0., 0., 0.,\n",
              "        0., 0., 0., 0., 0., 0., 0., 0., 0., 0., 0., 0., 0., 0., 0., 0.,\n",
              "        0., 0., 0., 0., 0., 0., 0., 0., 0., 0., 0., 0., 0., 0., 0., 0.,\n",
              "        0., 0., 0., 0., 0., 0., 0., 0., 0., 0., 0., 0., 0., 0., 0., 0.,\n",
              "        0., 0., 0., 0., 0., 0., 0., 0., 0., 0., 0., 0., 0., 0., 0., 0.,\n",
              "        0., 0., 0., 0., 0., 0., 0., 0., 0., 0., 0., 0., 0., 0., 0., 0.,\n",
              "        0., 0., 0., 0., 0., 0., 0., 0., 0., 0., 0., 0., 0., 0., 0., 0.,\n",
              "        0., 0., 0., 0., 0., 0., 0., 0., 0., 0., 0., 0., 0., 0., 0., 0.,\n",
              "        0., 0., 0., 0., 0., 0., 0.]])"
            ]
          },
          "execution_count": 22,
          "metadata": {},
          "output_type": "execute_result"
        }
      ],
      "source": [
        "z"
      ]
    },
    {
      "cell_type": "code",
      "execution_count": null,
      "metadata": {
        "colab": {
          "base_uri": "https://localhost:8080/"
        },
        "id": "AqFrM7SwOatT",
        "outputId": "cd6682bb-5113-4910-a9aa-0521695d34a3"
      },
      "outputs": [
        {
          "data": {
            "text/plain": [
              "(1, 375)"
            ]
          },
          "execution_count": 23,
          "metadata": {},
          "output_type": "execute_result"
        }
      ],
      "source": [
        "y_hat.shape"
      ]
    },
    {
      "cell_type": "markdown",
      "metadata": {
        "id": "I1L7RqCHOShJ"
      },
      "source": [
        "### Крок 2: Обчислити усереднену втрату на всьому навчальному наборі даних. Цільова функція\n",
        "\n"
      ]
    },
    {
      "cell_type": "code",
      "execution_count": null,
      "metadata": {
        "id": "YM5DZaGIl-ei",
        "tags": [
          "cost"
        ]
      },
      "outputs": [],
      "source": [
        "# TODO\n",
        "def cost(n, y_hat, y_true):\n",
        "  \"\"\"\n",
        "  Ця функція обчислює середнє квадратичне відхилення на всьому навчальному наборі даних\n",
        "\n",
        "  Параметри:\n",
        "  n -- загальна кількість навчальних прикладів\n",
        "  y_hat -- вихідне значення лінійної регресії\n",
        "  y_true -- істинне значення залежної змінної\n",
        "\n",
        "  Повертає:\n",
        "  J --  середнє квадратичне відхилення на всьому навчальному наборі даних\n",
        "  \"\"\"\n",
        "\n",
        "  # BEGIN_YOUR_CODE\n",
        "  raise Exception(\"Not implemented yet\")\n",
        "  # END_YOUR_CODE"
      ]
    },
    {
      "cell_type": "code",
      "execution_count": null,
      "metadata": {
        "colab": {
          "base_uri": "https://localhost:8080/"
        },
        "id": "GVuroIbum_4L",
        "outputId": "71d90877-9034-4726-8b03-2ebd661246c4"
      },
      "outputs": [
        {
          "data": {
            "text/plain": [
              "66.45256981003433"
            ]
          },
          "execution_count": 25,
          "metadata": {},
          "output_type": "execute_result"
        }
      ],
      "source": [
        "J = cost(n_samples, y_hat, y_train)\n",
        "J"
      ]
    },
    {
      "cell_type": "markdown",
      "metadata": {
        "id": "bapG8TtdP4gK"
      },
      "source": [
        "### Крок 3: Розрахувати градієнти цільвої функції відносно ваг та зсуву"
      ]
    },
    {
      "cell_type": "code",
      "execution_count": null,
      "metadata": {
        "id": "9K-Vn0mpiGng",
        "tags": [
          "backwardPropagate"
        ]
      },
      "outputs": [],
      "source": [
        "# TODO\n",
        "def backwardPropagate(n, X, y_hat, y_true):\n",
        "  \"\"\"\n",
        "  Ця функція обчислює градієнти цільвої функції відносно ваг та зсуву\n",
        "\n",
        "  Параметри:\n",
        "  n -- загальна кількість навчальних прикладів\n",
        "  X -- вхідний вектор ознак форми (1, 375)\n",
        "  y_hat --  вихідне значення лінійної регресії\n",
        "  y_true -- істинне значення залежної змінної\n",
        "\n",
        "  Повертає:\n",
        "  dW --  градієнт цільової функції відносно ваг моделі\n",
        "  db -- градієнт цільової функції відносно зсуву моделі\n",
        "  \"\"\"\n",
        "\n",
        "  # BEGIN_YOUR_CODE\n",
        "  raise Exception(\"Not implemented yet\")\n",
        "  # END_YOUR_CODE"
      ]
    },
    {
      "cell_type": "code",
      "execution_count": null,
      "metadata": {
        "id": "VirkpmD0o-1Q"
      },
      "outputs": [],
      "source": [
        "dW, db = backwardPropagate(n_samples, X_train, y_hat, y_train)"
      ]
    },
    {
      "cell_type": "code",
      "execution_count": null,
      "metadata": {
        "colab": {
          "base_uri": "https://localhost:8080/"
        },
        "id": "z-nQYn1tqNRo",
        "outputId": "5ba58980-1729-42d7-8366-fea39b066b88"
      },
      "outputs": [
        {
          "data": {
            "text/plain": [
              "array([[-17.54481439]])"
            ]
          },
          "execution_count": 28,
          "metadata": {},
          "output_type": "execute_result"
        }
      ],
      "source": [
        "dW"
      ]
    },
    {
      "cell_type": "code",
      "execution_count": null,
      "metadata": {
        "colab": {
          "base_uri": "https://localhost:8080/"
        },
        "id": "aLjgo0GdpMx0",
        "outputId": "d04b7ce0-87e4-45c7-8911-b55fcf49e423"
      },
      "outputs": [
        {
          "data": {
            "text/plain": [
              "(1, 1)"
            ]
          },
          "execution_count": 29,
          "metadata": {},
          "output_type": "execute_result"
        }
      ],
      "source": [
        "dW.shape"
      ]
    },
    {
      "cell_type": "code",
      "execution_count": null,
      "metadata": {
        "colab": {
          "base_uri": "https://localhost:8080/"
        },
        "id": "8ZBTCeXdqFJA",
        "outputId": "020542a2-69c5-47e1-a823-138afb92bb56"
      },
      "outputs": [
        {
          "data": {
            "text/plain": [
              "-15.798772876862287"
            ]
          },
          "execution_count": 30,
          "metadata": {},
          "output_type": "execute_result"
        }
      ],
      "source": [
        "db"
      ]
    },
    {
      "cell_type": "code",
      "execution_count": null,
      "metadata": {
        "colab": {
          "base_uri": "https://localhost:8080/"
        },
        "id": "DAkVSaLesD_8",
        "outputId": "371daa6b-7683-46c3-f83b-4d9bb57c61e8"
      },
      "outputs": [
        {
          "data": {
            "text/plain": [
              "()"
            ]
          },
          "execution_count": 31,
          "metadata": {},
          "output_type": "execute_result"
        }
      ],
      "source": [
        "db.shape"
      ]
    },
    {
      "cell_type": "markdown",
      "metadata": {
        "id": "7wzrFBQPSfL5"
      },
      "source": [
        "### Крок 4: Оновити ваги та зсув"
      ]
    },
    {
      "cell_type": "code",
      "execution_count": null,
      "metadata": {
        "id": "SwacLBbFsKHZ",
        "tags": [
          "update"
        ]
      },
      "outputs": [],
      "source": [
        "# TODO\n",
        "def update(alpha, dW, db, W, b):\n",
        "  \"\"\"\n",
        "  Ця функція оновлює навчальні параметри моделі (ваги та зсув ) у напрямку мінімізації цільової функції\n",
        "\n",
        "  Параметри:\n",
        "  alpha -- швидкість  навчання (крок навчання)\n",
        "  dW --  градієнт цільової функції відносно ваг моделі\n",
        "  db -- градієнт цільової функції відносно зсуву моделі\n",
        "  W -- вектор-рядок ваг моделі форми (1, m)\n",
        "  b -- зсув моделі (скаляр)\n",
        "\n",
        "  Повертає:\n",
        "  W -- оновлений вектор-рядок ваг моделі форми (1, m)\n",
        "  b -- оновлений зсув моделі (скаляр)\n",
        "  \"\"\"\n",
        "\n",
        "\n",
        "  # BEGIN_YOUR_CODE\n",
        "  raise Exception(\"Not implemented yet\")\n",
        "  # END_YOUR_CODE"
      ]
    },
    {
      "cell_type": "code",
      "execution_count": null,
      "metadata": {
        "id": "7f-dOng9tKRy"
      },
      "outputs": [],
      "source": [
        "W, b = update(0.0001, dW, db, W, b)"
      ]
    },
    {
      "cell_type": "code",
      "execution_count": null,
      "metadata": {
        "colab": {
          "base_uri": "https://localhost:8080/"
        },
        "id": "X681Y8JatVAi",
        "outputId": "904557ec-d2a0-4a58-932d-a2713372892f"
      },
      "outputs": [
        {
          "data": {
            "text/plain": [
              "array([[0.00175448]])"
            ]
          },
          "execution_count": 34,
          "metadata": {},
          "output_type": "execute_result"
        }
      ],
      "source": [
        "W"
      ]
    },
    {
      "cell_type": "code",
      "execution_count": null,
      "metadata": {
        "colab": {
          "base_uri": "https://localhost:8080/"
        },
        "id": "oWrWtkXhtWl4",
        "outputId": "c085d920-f16b-422e-d1f0-4eaae835b6a9"
      },
      "outputs": [
        {
          "data": {
            "text/plain": [
              "0.0015798772876862287"
            ]
          },
          "execution_count": 35,
          "metadata": {},
          "output_type": "execute_result"
        }
      ],
      "source": [
        "b"
      ]
    },
    {
      "cell_type": "markdown",
      "metadata": {
        "id": "YdljmLW8ljv0"
      },
      "source": [
        "# Клас лінійної регресії"
      ]
    },
    {
      "cell_type": "code",
      "execution_count": null,
      "metadata": {
        "id": "ULkK4_oGK5AP"
      },
      "outputs": [],
      "source": [
        "class LinearRegression:\n",
        "\n",
        "    def __init__(self):\n",
        "        pass\n",
        "\n",
        "    def train_model(self, X, y, alpha=0.01, n_iters=100):\n",
        "        \"\"\"\n",
        "        Trains a linear regression model using gradient descent\n",
        "        \"\"\"\n",
        "        # Step 0: Initialize the parameters\n",
        "        n_features, n_samples = X.shape\n",
        "        self.W, self.b = parameters_inititalization(n_features)\n",
        "        costs = []\n",
        "\n",
        "        for i in range(n_iters):\n",
        "\n",
        "          # Step 1: Compute a linear combination of the input features and weights\n",
        "          z, y_hat = forwardPropagate(X_train, self.W, self.b)\n",
        "\n",
        "          # Step 2: Compute cost over training set\n",
        "          J = cost(n_samples, y_hat, y_train)\n",
        "          costs.append(J)\n",
        "\n",
        "          if i % 20 == 0:\n",
        "            print(f\"Усереднена втрата моделі на ітерації {i}: {J}\")\n",
        "\n",
        "          # Step 3: Compute the gradients\n",
        "          dW, db = backwardPropagate(n_samples, X_train, y_hat, y_train)\n",
        "\n",
        "          # Step 4: Update the parameters\n",
        "          self.W, self.b = update(alpha, dW, db, self.W, self.b)\n",
        "\n",
        "        return self.W, self.b, costs\n",
        "\n",
        "    def predict(self, X):\n",
        "        return np.dot(self.W, X) + self.b"
      ]
    },
    {
      "cell_type": "code",
      "execution_count": null,
      "metadata": {
        "colab": {
          "base_uri": "https://localhost:8080/",
          "height": 751
        },
        "id": "lrAKvTbRLMJ8",
        "outputId": "1ea1d0ee-30b6-448f-9893-d334b07ff386"
      },
      "outputs": [
        {
          "name": "stdout",
          "output_type": "stream",
          "text": [
            "Усереднена втрата моделі на ітерації 0: 66.45256981003433\n",
            "Усереднена втрата моделі на ітерації 20: 28.75881484083611\n",
            "Усереднена втрата моделі на ітерації 40: 12.901884438489418\n",
            "Усереднена втрата моделі на ітерації 60: 6.223991246110849\n",
            "Усереднена втрата моделі на ітерації 80: 3.404903739019825\n",
            "Усереднена втрата моделі на ітерації 100: 2.2084346146095934\n",
            "Усереднена втрата моделі на ітерації 120: 1.6946510641188781\n",
            "Усереднена втрата моделі на ітерації 140: 1.4684503542539362\n",
            "Усереднена втрата моделі на ітерації 160: 1.3637291698923506\n",
            "Усереднена втрата моделі на ітерації 180: 1.310636979355444\n",
            "Усереднена втрата моделі на ітерації 200: 1.2797812854182806\n",
            "Усереднена втрата моделі на ітерації 220: 1.2587764605971372\n",
            "Усереднена втрата моделі на ітерації 240: 1.2423868920290344\n",
            "Усереднена втрата моделі на ітерації 260: 1.2283839450818483\n",
            "Усереднена втрата моделі на ітерації 280: 1.2158045034072278\n",
            "Усереднена втрата моделі на ітерації 300: 1.2042189195356685\n",
            "Усереднена втрата моделі на ітерації 320: 1.1934232356789232\n",
            "Усереднена втрата моделі на ітерації 340: 1.183309734600879\n",
            "Усереднена втрата моделі на ітерації 360: 1.1738124493611106\n",
            "Усереднена втрата моделі на ітерації 380: 1.164884183775867\n"
          ]
        },
        {
          "data": {
            "image/png": "[encoded data removed]",
            "text/plain": [
              "<Figure size 576x432 with 1 Axes>"
            ]
          },
          "metadata": {
            "needs_background": "light"
          },
          "output_type": "display_data"
        }
      ],
      "source": [
        "regressor = LinearRegression()\n",
        "w_trained, b_trained, costs = regressor.train_model(X_train, y_train, alpha=0.005, n_iters=400)\n",
        "\n",
        "fig = plt.figure(figsize=(8,6))\n",
        "plt.plot(np.arange(400), costs)\n",
        "plt.title(\"Зміна втрат моделі у ході навчання\")\n",
        "plt.xlabel(\"Кількість ітерацій\")\n",
        "plt.ylabel(\"Втрати\")\n",
        "plt.show()\n"
      ]
    },
    {
      "cell_type": "markdown",
      "metadata": {
        "id": "gIIYcY-UktkQ"
      },
      "source": [
        "# Тестування моделіі"
      ]
    },
    {
      "cell_type": "code",
      "execution_count": null,
      "metadata": {
        "id": "bILRojcaeN5J"
      },
      "outputs": [],
      "source": [
        "y_hat_test = regressor.predict(X_test)"
      ]
    },
    {
      "cell_type": "code",
      "execution_count": null,
      "metadata": {
        "colab": {
          "base_uri": "https://localhost:8080/",
          "height": 406
        },
        "id": "8fPLGyW4bYIC",
        "outputId": "bab8029c-5409-4797-c57a-fe2b06184cb5"
      },
      "outputs": [
        {
          "data": {
            "image/png": "[encoded data removed]",
            "text/plain": [
              "<Figure size 576x432 with 1 Axes>"
            ]
          },
          "metadata": {
            "needs_background": "light"
          },
          "output_type": "display_data"
        }
      ],
      "source": [
        "# Plot the test predictions\n",
        "\n",
        "fig = plt.figure(figsize=(8,6))\n",
        "plt.title(\" for test set in orange\")\n",
        "plt.scatter(X_train, y_train)\n",
        "plt.scatter(X_test, y_hat_test)\n",
        "plt.xlabel(\"$X$\")\n",
        "plt.ylabel(\"$y$\")\n",
        "plt.legend([\"Навчальний набір даних\" , \"Прогноз моделі\"])\n",
        "plt.show()"
      ]
    },
    {
      "cell_type": "markdown",
      "metadata": {
        "id": "SwXQUYwaXwic"
      },
      "source": [
        "\n",
        "\n",
        "Завдання завершено."
      ]
    }
  ],
  "metadata": {
    "celltoolbar": "Tags",
    "colab": {
      "provenance": []
    },
    "kernelspec": {
      "display_name": "Python 3",
      "language": "python",
      "name": "python3"
    },
    "language_info": {
      "codemirror_mode": {
        "name": "ipython",
        "version": 3
      },
      "file_extension": ".py",
      "mimetype": "text/x-python",
      "name": "python",
      "nbconvert_exporter": "python",
      "pygments_lexer": "ipython3",
      "version": "3.7.3"
    }
  },
  "nbformat": 4,
  "nbformat_minor": 0
}