{
 "cells": [
  {
   "cell_type": "markdown",
   "metadata": {
    "id": "eCiIXGX_vnI9",
    "slideshow": {
     "slide_type": "slide"
    }
   },
   "source": [
    "&nbsp;\n",
    "<center>\n",
    "    <font size=\"+2\">Системи штучного інтелекту</font> \n",
    "</center>\n",
    "\n",
    "&nbsp;\n",
    "<center>\n",
    "    <font size=\"+2\">Лінійна алгебра: огляд</font> \n",
    "</center>\n",
    "\n",
    "&nbsp;&nbsp;\n",
    "\n",
    "\n",
    "<center>Кочура Юрій</center>\n",
    "\n",
    "&nbsp;&nbsp;\n"
   ]
  },
  {
   "cell_type": "markdown",
   "metadata": {
    "slideshow": {
     "slide_type": "slide"
    }
   },
   "source": [
    "\n",
    "\n",
    "*   **Скаляр** &mdash; дійсне число (тензор нульоваго рангу).\n",
    "*   **Вектор** &mdash;  одновимірний (1D) масив дійсних чисел (тензор першого рангу). Множину векторів довжиною $n$ дійсних чисел позначають $\\mathbb{R}^n$.\n",
    "\n",
    "  *   Вектори можна множити на скаляр.\n",
    "  *   Вектори можна додавати або віднімати, якщо узгоджені розміри.\n",
    "  *   Вектори можна перемножувати (скаларний та векторний добуток), якщо узгоджені розміри.\n",
    "\n",
    "* **Матриця** &mdash;  двовимірний (2D) масив дійсних чисел (тензор другого рангу). Множину матриць розміром $m \\times n$ дійсних чисел позначають $\\mathbb{R}^{m \\times n}$.\n",
    "\n",
    "  * Матриці можна додавати, віднімати або множити на скаляр.\n",
    "  * Матрицю можна множити на вектор, якщо узгоджені розміри.\n",
    "\n",
    "\n",
    "\n",
    "Будемо притримуватись загальноприйнятих позначень: $a$ &mdash; скаляр, $\\pmb{a}$ &mdash; вектор (вектор-стовпець),\n",
    "$\\pmb{A}$ &mdash; матриця"
   ]
  },
  {
   "cell_type": "markdown",
   "metadata": {
    "slideshow": {
     "slide_type": "slide"
    }
   },
   "source": [
    "# Скаляри "
   ]
  },
  {
   "cell_type": "code",
   "execution_count": 1,
   "metadata": {
    "ExecuteTime": {
     "end_time": "2019-01-22T06:59:37.697347Z",
     "start_time": "2019-01-22T06:59:36.344203Z"
    },
    "id": "EE2orzhWvnJH",
    "slideshow": {
     "slide_type": "-"
    }
   },
   "outputs": [],
   "source": [
    "import numpy as np"
   ]
  },
  {
   "cell_type": "code",
   "execution_count": 2,
   "metadata": {
    "ExecuteTime": {
     "end_time": "2019-01-22T06:59:37.723391Z",
     "start_time": "2019-01-22T06:59:37.701297Z"
    },
    "colab": {
     "base_uri": "https://localhost:8080/"
    },
    "id": "7R2fFN0qvnJR",
    "outputId": "72bad044-0ebc-40c1-a33d-9445946e4059"
   },
   "outputs": [
    {
     "name": "stdout",
     "output_type": "stream",
     "text": [
      "x + y =  5.0\n",
      "x * y =  6.0\n",
      "x / y =  1.5\n",
      "x ** y =  9.0\n"
     ]
    }
   ],
   "source": [
    "x = 3.0\n",
    "y = 2.0\n",
    "\n",
    "print('x + y = ', x + y)\n",
    "print('x * y = ', x * y)\n",
    "print('x / y = ', x / y)\n",
    "print('x ** y = ', np.power(x,y))"
   ]
  },
  {
   "cell_type": "markdown",
   "metadata": {
    "id": "tmYeqhqXvnJi",
    "slideshow": {
     "slide_type": "slide"
    }
   },
   "source": [
    "# Вектори\n",
    "\n",
    "Приклад вектора ``[1.0, 3.0, 4.0, 2.0]``. Ми використовуємо 1D NDArrays."
   ]
  },
  {
   "cell_type": "code",
   "execution_count": 3,
   "metadata": {
    "ExecuteTime": {
     "end_time": "2019-01-22T06:59:37.759425Z",
     "start_time": "2019-01-22T06:59:37.748844Z"
    },
    "colab": {
     "base_uri": "https://localhost:8080/"
    },
    "id": "9pI5mjnWvnJk",
    "outputId": "f8c46bf8-7e4a-44e5-bda2-81a363137d4f"
   },
   "outputs": [
    {
     "name": "stdout",
     "output_type": "stream",
     "text": [
      "x =  [ 0  1  2  3  4  5  6  7  8  9 10 11]\n"
     ]
    }
   ],
   "source": [
    "x = np.arange(12)\n",
    "print('x = ', x) "
   ]
  },
  {
   "cell_type": "code",
   "execution_count": 4,
   "metadata": {
    "ExecuteTime": {
     "end_time": "2019-01-22T06:59:37.790373Z",
     "start_time": "2019-01-22T06:59:37.765817Z"
    },
    "colab": {
     "base_uri": "https://localhost:8080/"
    },
    "id": "hlOAKTt4vnJo",
    "outputId": "e74ce311-04ee-4e8b-880e-20abc7c4f4d3"
   },
   "outputs": [
    {
     "data": {
      "text/plain": [
       "3"
      ]
     },
     "execution_count": 4,
     "metadata": {},
     "output_type": "execute_result"
    }
   ],
   "source": [
    "x[3]"
   ]
  },
  {
   "cell_type": "markdown",
   "metadata": {},
   "source": [
    "Форма та тип"
   ]
  },
  {
   "cell_type": "code",
   "execution_count": 5,
   "metadata": {},
   "outputs": [
    {
     "data": {
      "text/plain": [
       "(12,)"
      ]
     },
     "execution_count": 5,
     "metadata": {},
     "output_type": "execute_result"
    }
   ],
   "source": [
    "x.shape"
   ]
  },
  {
   "cell_type": "code",
   "execution_count": 6,
   "metadata": {},
   "outputs": [
    {
     "data": {
      "text/plain": [
       "numpy.ndarray"
      ]
     },
     "execution_count": 6,
     "metadata": {},
     "output_type": "execute_result"
    }
   ],
   "source": [
    "type(x)"
   ]
  },
  {
   "cell_type": "markdown",
   "metadata": {
    "slideshow": {
     "slide_type": "slide"
    }
   },
   "source": [
    "# Вектор-стовпець "
   ]
  },
  {
   "cell_type": "code",
   "execution_count": 7,
   "metadata": {},
   "outputs": [
    {
     "name": "stdout",
     "output_type": "stream",
     "text": [
      "x =  [[ 0]\n",
      " [ 1]\n",
      " [ 2]\n",
      " [ 3]\n",
      " [ 4]\n",
      " [ 5]\n",
      " [ 6]\n",
      " [ 7]\n",
      " [ 8]\n",
      " [ 9]\n",
      " [10]\n",
      " [11]]\n"
     ]
    }
   ],
   "source": [
    "x = np.arange(12).reshape(12, 1)\n",
    "print('x = ', x) "
   ]
  },
  {
   "cell_type": "markdown",
   "metadata": {},
   "source": [
    "Форма"
   ]
  },
  {
   "cell_type": "code",
   "execution_count": 8,
   "metadata": {},
   "outputs": [
    {
     "data": {
      "text/plain": [
       "(12, 1)"
      ]
     },
     "execution_count": 8,
     "metadata": {},
     "output_type": "execute_result"
    }
   ],
   "source": [
    "x.shape"
   ]
  },
  {
   "cell_type": "markdown",
   "metadata": {
    "slideshow": {
     "slide_type": "slide"
    }
   },
   "source": [
    "# Вектор-рядок "
   ]
  },
  {
   "cell_type": "code",
   "execution_count": 9,
   "metadata": {},
   "outputs": [
    {
     "name": "stdout",
     "output_type": "stream",
     "text": [
      "x =  [[ 0  1  2  3  4  5  6  7  8  9 10 11]]\n"
     ]
    }
   ],
   "source": [
    "print('x = ', x.T) "
   ]
  },
  {
   "cell_type": "markdown",
   "metadata": {},
   "source": [
    "Форма"
   ]
  },
  {
   "cell_type": "code",
   "execution_count": 10,
   "metadata": {},
   "outputs": [
    {
     "data": {
      "text/plain": [
       "(1, 12)"
      ]
     },
     "execution_count": 10,
     "metadata": {},
     "output_type": "execute_result"
    }
   ],
   "source": [
    "x.T.shape"
   ]
  },
  {
   "cell_type": "markdown",
   "metadata": {
    "slideshow": {
     "slide_type": "slide"
    }
   },
   "source": [
    "# Довжина, розмір та форма \n",
    "\n",
    "Довжину вектора прийнято називати його *виміром, розміром (dimension)*. Як і у випадку зі звичайним масивом Python, ми можемо отримати доступ до довжини NDArray, викликавши вбудовану функцію Python ``len()``.\n",
    "\n",
    "Також ми можемо отримати доступ до довжини вектора через його атрибут `.shape`.\n",
    "Форма &mdash; це кортеж, який перераховує розмір уздовж кожної зі своїх осей."
   ]
  },
  {
   "cell_type": "code",
   "execution_count": 11,
   "metadata": {
    "ExecuteTime": {
     "end_time": "2019-01-22T06:59:37.799655Z",
     "start_time": "2019-01-22T06:59:37.792531Z"
    },
    "colab": {
     "base_uri": "https://localhost:8080/"
    },
    "id": "XMMecNEHvnJv",
    "outputId": "0f802b71-9e05-437f-9bbe-13e8c000d455"
   },
   "outputs": [
    {
     "data": {
      "text/plain": [
       "(12, 1)"
      ]
     },
     "execution_count": 11,
     "metadata": {},
     "output_type": "execute_result"
    }
   ],
   "source": [
    "x.shape"
   ]
  },
  {
   "cell_type": "markdown",
   "metadata": {
    "id": "lkhrqWzn5rvG"
   },
   "source": [
    "Ми також можемо отримати загальну кількість елементів в екземплярі NDArray за допомогою атрибуту `.size`"
   ]
  },
  {
   "cell_type": "code",
   "execution_count": 12,
   "metadata": {
    "colab": {
     "base_uri": "https://localhost:8080/"
    },
    "id": "Zdhn3xRN5xYE",
    "outputId": "6cc48902-fcac-4c8c-d662-cd0f6955d205"
   },
   "outputs": [
    {
     "data": {
      "text/plain": [
       "12"
      ]
     },
     "execution_count": 12,
     "metadata": {},
     "output_type": "execute_result"
    }
   ],
   "source": [
    "x.size"
   ]
  },
  {
   "cell_type": "markdown",
   "metadata": {
    "id": "NMaQq8AR64Jh",
    "slideshow": {
     "slide_type": "slide"
    }
   },
   "source": [
    "Функція `.reshape()` змінює форму вектора `x` на форму (3, 4), що є матрицею з 3 рядками та 4 стовпцями."
   ]
  },
  {
   "cell_type": "code",
   "execution_count": 13,
   "metadata": {
    "colab": {
     "base_uri": "https://localhost:8080/"
    },
    "id": "RPkZtIpJ7MyS",
    "outputId": "3f08dd2a-6974-47db-baf5-80248ebe6863"
   },
   "outputs": [
    {
     "data": {
      "text/plain": [
       "array([[ 0,  1,  2,  3],\n",
       "       [ 4,  5,  6,  7],\n",
       "       [ 8,  9, 10, 11]])"
      ]
     },
     "execution_count": 13,
     "metadata": {},
     "output_type": "execute_result"
    }
   ],
   "source": [
    "x = x.reshape((3, 4))\n",
    "x"
   ]
  },
  {
   "cell_type": "markdown",
   "metadata": {},
   "source": [
    "Ми можемо використовувати -1, щоб заповнити значення за замовчуванням. `x.reshape((3, 4))` еквівалентно `x.reshape((-1, 4))` та `x.reshape((3, -1))`"
   ]
  },
  {
   "cell_type": "markdown",
   "metadata": {
    "id": "rAdxaBrdvnJx",
    "slideshow": {
     "slide_type": "slide"
    }
   },
   "source": [
    "Слово *розмір* має відношення до кількості осей та кількості елементів. **Щоб уникнути плутанини, коли ми говоримо *2D* масив або *3D* масив, ми будемо мати на увазі масив із 2 або 3 осями відповідно. Але якщо ми говоримо *$n$-вимірний* вектор, ми маємо на увазі вектор довжини $n$.**"
   ]
  },
  {
   "cell_type": "code",
   "execution_count": 14,
   "metadata": {
    "ExecuteTime": {
     "end_time": "2019-01-22T06:59:37.819085Z",
     "start_time": "2019-01-22T06:59:37.806667Z"
    },
    "colab": {
     "base_uri": "https://localhost:8080/"
    },
    "id": "rVyhZhESvnJz",
    "outputId": "18050ae0-82cc-4bab-ca80-be23980c35b8"
   },
   "outputs": [
    {
     "name": "stdout",
     "output_type": "stream",
     "text": [
      "[2 4 6]\n",
      "[12 24 36]\n"
     ]
    }
   ],
   "source": [
    "a = 2\n",
    "x = np.array([1, 2, 3])\n",
    "y = np.array([10, 20, 30])\n",
    "print(a * x)\n",
    "print(a * x + y)"
   ]
  },
  {
   "cell_type": "markdown",
   "metadata": {
    "slideshow": {
     "slide_type": "slide"
    }
   },
   "source": [
    "# Ініціалізація\n",
    "\n",
    "Метод [`empty`](https://numpy.org/doc/stable/reference/generated/numpy.empty.html) виділяє частину пам’яті. Повертає масив заданої форми та типу без ініціалізації записів."
   ]
  },
  {
   "cell_type": "code",
   "execution_count": 15,
   "metadata": {},
   "outputs": [
    {
     "data": {
      "text/plain": [
       "array([[0.0e+000, 4.9e-324, 9.9e-324, 1.5e-323],\n",
       "       [2.0e-323, 2.5e-323, 3.0e-323, 3.5e-323],\n",
       "       [4.0e-323, 4.4e-323, 4.9e-323, 5.4e-323]])"
      ]
     },
     "execution_count": 15,
     "metadata": {},
     "output_type": "execute_result"
    }
   ],
   "source": [
    "np.empty((3, 4))"
   ]
  },
  {
   "cell_type": "markdown",
   "metadata": {
    "slideshow": {
     "slide_type": "slide"
    }
   },
   "source": [
    "Інколи виникає потреба ініціалізувати кожен елемент тензора нулями. Щоб створити такий тензор форми (2, 3, 4)"
   ]
  },
  {
   "cell_type": "code",
   "execution_count": 16,
   "metadata": {},
   "outputs": [
    {
     "data": {
      "text/plain": [
       "array([[[0., 0., 0., 0.],\n",
       "        [0., 0., 0., 0.],\n",
       "        [0., 0., 0., 0.]],\n",
       "\n",
       "       [[0., 0., 0., 0.],\n",
       "        [0., 0., 0., 0.],\n",
       "        [0., 0., 0., 0.]]])"
      ]
     },
     "execution_count": 16,
     "metadata": {},
     "output_type": "execute_result"
    }
   ],
   "source": [
    "np.zeros((2, 3, 4))"
   ]
  },
  {
   "cell_type": "markdown",
   "metadata": {
    "slideshow": {
     "slide_type": "slide"
    }
   },
   "source": [
    "Ініціалізувати кожен елемент тензора одиницями можна за допомогою методу `ones`"
   ]
  },
  {
   "cell_type": "code",
   "execution_count": 17,
   "metadata": {},
   "outputs": [
    {
     "data": {
      "text/plain": [
       "array([[[1., 1., 1., 1.],\n",
       "        [1., 1., 1., 1.],\n",
       "        [1., 1., 1., 1.]],\n",
       "\n",
       "       [[1., 1., 1., 1.],\n",
       "        [1., 1., 1., 1.],\n",
       "        [1., 1., 1., 1.]]])"
      ]
     },
     "execution_count": 17,
     "metadata": {},
     "output_type": "execute_result"
    }
   ],
   "source": [
    "np.ones((2, 3, 4))"
   ]
  },
  {
   "cell_type": "markdown",
   "metadata": {
    "slideshow": {
     "slide_type": "slide"
    }
   },
   "source": [
    "Ми також можемо вказати значення кожного елемента в NDArray, який потрібно створити за допомогою списку Python."
   ]
  },
  {
   "cell_type": "code",
   "execution_count": 18,
   "metadata": {},
   "outputs": [
    {
     "data": {
      "text/plain": [
       "array([[2, 1, 4, 3],\n",
       "       [1, 2, 3, 4],\n",
       "       [4, 3, 2, 1]])"
      ]
     },
     "execution_count": 18,
     "metadata": {},
     "output_type": "execute_result"
    }
   ],
   "source": [
    " np.array([[2, 1, 4, 3], [1, 2, 3, 4], [4, 3, 2, 1]])\n"
   ]
  },
  {
   "cell_type": "markdown",
   "metadata": {
    "slideshow": {
     "slide_type": "slide"
    }
   },
   "source": [
    "У деяких випадках виникає необхідність ініціалізації кожного елемент тензора випадковим чином. Це особливо часто необхідно, коли ми ініціалізуємо ваги нейронної мережі. У прикладі поданому нижче ми ініціалізуємо тензор форми (3,4). Кожен з його елементів випадково обирається з нормального розподілу з нульовим середнім та дисперсією 1."
   ]
  },
  {
   "cell_type": "code",
   "execution_count": 19,
   "metadata": {},
   "outputs": [
    {
     "data": {
      "text/plain": [
       "array([[ 0.41307296,  0.69003664,  1.99739419,  0.53177931],\n",
       "       [ 1.30273294,  0.46060757, -0.54233716,  1.39599426],\n",
       "       [ 0.25679329, -1.02293142, -1.32493548,  1.47126274]])"
      ]
     },
     "execution_count": 19,
     "metadata": {},
     "output_type": "execute_result"
    }
   ],
   "source": [
    "mu, sigma = 0, 1\n",
    "np.random.normal(mu, sigma, size=(3, 4))"
   ]
  },
  {
   "cell_type": "markdown",
   "metadata": {
    "slideshow": {
     "slide_type": "slide"
    }
   },
   "source": [
    "Багато операцій можна виконувати поелементно. Наприклад, піднесення до степеня"
   ]
  },
  {
   "cell_type": "code",
   "execution_count": 20,
   "metadata": {},
   "outputs": [
    {
     "data": {
      "text/plain": [
       "array([10, 20, 30])"
      ]
     },
     "execution_count": 20,
     "metadata": {},
     "output_type": "execute_result"
    }
   ],
   "source": [
    "y"
   ]
  },
  {
   "cell_type": "code",
   "execution_count": 21,
   "metadata": {},
   "outputs": [
    {
     "data": {
      "text/plain": [
       "array([2.20264658e+04, 4.85165195e+08, 1.06864746e+13])"
      ]
     },
     "execution_count": 21,
     "metadata": {},
     "output_type": "execute_result"
    }
   ],
   "source": [
    "np.exp(y)"
   ]
  },
  {
   "cell_type": "markdown",
   "metadata": {
    "slideshow": {
     "slide_type": "slide"
    }
   },
   "source": [
    "Ми також можемо об’єднати кілька NDArrays. Для цього нам потрібно вказати за яким виміром будемо об’єднати. У наведеному нижче прикладі об’єднано дві матриці вздовж виміру 0 (уздовж рядків) і виміру 1 (вздовж стовпців) відповідно."
   ]
  },
  {
   "cell_type": "code",
   "execution_count": 22,
   "metadata": {},
   "outputs": [],
   "source": [
    "x = np.arange(12).reshape((3,4))\n",
    "y = np.array([[2, 1, 4, 3], [1, 2, 3, 4], [4, 3, 2, 1]])"
   ]
  },
  {
   "cell_type": "code",
   "execution_count": 23,
   "metadata": {},
   "outputs": [
    {
     "data": {
      "text/plain": [
       "array([[ 0,  1,  2,  3],\n",
       "       [ 4,  5,  6,  7],\n",
       "       [ 8,  9, 10, 11],\n",
       "       [ 2,  1,  4,  3],\n",
       "       [ 1,  2,  3,  4],\n",
       "       [ 4,  3,  2,  1]])"
      ]
     },
     "execution_count": 23,
     "metadata": {},
     "output_type": "execute_result"
    }
   ],
   "source": [
    "np.concatenate((x, y), axis=0)"
   ]
  },
  {
   "cell_type": "code",
   "execution_count": 24,
   "metadata": {},
   "outputs": [
    {
     "data": {
      "text/plain": [
       "array([[ 0,  1,  2,  3,  2,  1,  4,  3],\n",
       "       [ 4,  5,  6,  7,  1,  2,  3,  4],\n",
       "       [ 8,  9, 10, 11,  4,  3,  2,  1]])"
      ]
     },
     "execution_count": 24,
     "metadata": {},
     "output_type": "execute_result"
    }
   ],
   "source": [
    "np.concatenate((x, y), axis=1)"
   ]
  },
  {
   "cell_type": "markdown",
   "metadata": {
    "id": "0p3hf-TmvnJ1",
    "slideshow": {
     "slide_type": "slide"
    }
   },
   "source": [
    "## Матриці\n",
    "Подібно до того, як вектори узагальнюють скаляри від $0D$ до $1D$, матриці узагальнюють вектори від $1D$ до $2D$.\n",
    "Mатриці зазвичай позначають великими літерами ($\\pmb{A}$, $\\pmb{B}$, $\\pmb{C}$), представлені в коді як масиви з 2 осями.\n",
    "Візуально ми можемо представити матрицю у вигляді таблиці,\n",
    "де кожен елемент $a_{ij}$ належить до $i$-го рядка та $j$-го стовпця.\n",
    "\n",
    "\n",
    "$$A=\\begin{pmatrix}\n",
    " a_{11} & a_{12} & \\cdots & a_{1m} \\\\\n",
    " a_{21} & a_{22} & \\cdots & a_{2m} \\\\\n",
    "\\vdots & \\vdots & \\ddots & \\vdots \\\\\n",
    " a_{n1} & a_{n2} & \\cdots & a_{nm} \\\\\n",
    "\\end{pmatrix}$$"
   ]
  },
  {
   "cell_type": "code",
   "execution_count": 25,
   "metadata": {
    "ExecuteTime": {
     "end_time": "2019-01-22T06:59:37.845855Z",
     "start_time": "2019-01-22T06:59:37.832911Z"
    },
    "colab": {
     "base_uri": "https://localhost:8080/"
    },
    "id": "_bacVp-4vnJ3",
    "outputId": "f82babb5-aeea-4adb-f110-c9c3af472647",
    "slideshow": {
     "slide_type": "-"
    }
   },
   "outputs": [
    {
     "data": {
      "text/plain": [
       "array([[ 0,  1,  2,  3],\n",
       "       [ 4,  5,  6,  7],\n",
       "       [ 8,  9, 10, 11],\n",
       "       [12, 13, 14, 15],\n",
       "       [16, 17, 18, 19]])"
      ]
     },
     "execution_count": 25,
     "metadata": {},
     "output_type": "execute_result"
    }
   ],
   "source": [
    "A = np.arange(20).reshape((5,4))\n",
    "A"
   ]
  },
  {
   "cell_type": "markdown",
   "metadata": {
    "id": "1wYyWYCtvnJ6",
    "slideshow": {
     "slide_type": "slide"
    }
   },
   "source": [
    "Ми можемо отримати доступ до елементів $a_{ij}$, вказавши рядок $i$ і стовпець $j$. Якщо залишити у цих полях `:` буде обрано всі елементи у відповідному вимірі. \n"
   ]
  },
  {
   "cell_type": "code",
   "execution_count": 26,
   "metadata": {},
   "outputs": [
    {
     "data": {
      "text/plain": [
       "array([4, 5, 6, 7])"
      ]
     },
     "execution_count": 26,
     "metadata": {},
     "output_type": "execute_result"
    }
   ],
   "source": [
    "A[1, :]"
   ]
  },
  {
   "cell_type": "code",
   "execution_count": 27,
   "metadata": {},
   "outputs": [
    {
     "data": {
      "text/plain": [
       "array([ 1,  5,  9, 13, 17])"
      ]
     },
     "execution_count": 27,
     "metadata": {},
     "output_type": "execute_result"
    }
   ],
   "source": [
    "A[:, 1]"
   ]
  },
  {
   "cell_type": "code",
   "execution_count": 28,
   "metadata": {},
   "outputs": [
    {
     "data": {
      "text/plain": [
       "array([[ 5,  6],\n",
       "       [ 9, 10],\n",
       "       [13, 14],\n",
       "       [17, 18]])"
      ]
     },
     "execution_count": 28,
     "metadata": {},
     "output_type": "execute_result"
    }
   ],
   "source": [
    "A[1:, 1:3]"
   ]
  },
  {
   "cell_type": "markdown",
   "metadata": {
    "id": "1wYyWYCtvnJ6",
    "slideshow": {
     "slide_type": "slide"
    }
   },
   "source": [
    "Ми можемо транспонувати матрицю. Тобто, якщо $B = A^T$, то $b_{ij} = a_{ji}$ для будь-яких $i$ та $j$.\n"
   ]
  },
  {
   "cell_type": "code",
   "execution_count": 29,
   "metadata": {
    "ExecuteTime": {
     "end_time": "2019-01-22T06:59:37.858642Z",
     "start_time": "2019-01-22T06:59:37.849556Z"
    },
    "colab": {
     "base_uri": "https://localhost:8080/"
    },
    "id": "iuA-jMNkvnJ7",
    "outputId": "d8ec8a32-6a1a-4351-e83d-1cffc834afec"
   },
   "outputs": [
    {
     "data": {
      "text/plain": [
       "array([[ 0,  4,  8, 12, 16],\n",
       "       [ 1,  5,  9, 13, 17],\n",
       "       [ 2,  6, 10, 14, 18],\n",
       "       [ 3,  7, 11, 15, 19]])"
      ]
     },
     "execution_count": 29,
     "metadata": {},
     "output_type": "execute_result"
    }
   ],
   "source": [
    "A.T"
   ]
  },
  {
   "cell_type": "markdown",
   "metadata": {
    "id": "kpE-rse2vnJ-",
    "slideshow": {
     "slide_type": "slide"
    }
   },
   "source": [
    "## Тензори\n",
    "\n",
    "Подібно до того, як вектори узагальнюють скаляри, а матриці узагальнюють вектори, ми можемо збільшити кількість осей. При роботі з зображеннями осі відповідають висоті, ширині і трьом (RGB) кольоровим каналам."
   ]
  },
  {
   "cell_type": "code",
   "execution_count": 30,
   "metadata": {
    "ExecuteTime": {
     "end_time": "2019-01-22T06:59:37.880386Z",
     "start_time": "2019-01-22T06:59:37.869406Z"
    },
    "colab": {
     "base_uri": "https://localhost:8080/"
    },
    "id": "EzFR3LO_vnKA",
    "outputId": "d21c223c-c071-43a9-e93e-794d74f9a73c"
   },
   "outputs": [
    {
     "name": "stdout",
     "output_type": "stream",
     "text": [
      "X.shape = (2, 3, 4)\n"
     ]
    },
    {
     "data": {
      "text/plain": [
       "array([[[ 0,  1,  2,  3],\n",
       "        [ 4,  5,  6,  7],\n",
       "        [ 8,  9, 10, 11]],\n",
       "\n",
       "       [[12, 13, 14, 15],\n",
       "        [16, 17, 18, 19],\n",
       "        [20, 21, 22, 23]]])"
      ]
     },
     "execution_count": 30,
     "metadata": {},
     "output_type": "execute_result"
    }
   ],
   "source": [
    "X = np.arange(24).reshape((2, 3, 4))\n",
    "print('X.shape =', X.shape)\n",
    "X"
   ]
  },
  {
   "cell_type": "markdown",
   "metadata": {
    "id": "DQU2nj1ZvnKB",
    "slideshow": {
     "slide_type": "slide"
    }
   },
   "source": [
    "## Базові операції з тензорами\n",
    "\n",
    "Для заданих двох тензорів $X$ та $Y$ з однаковою формою, $\\alpha X + Y$ має таку ж форму."
   ]
  },
  {
   "cell_type": "code",
   "execution_count": 31,
   "metadata": {
    "ExecuteTime": {
     "end_time": "2019-01-22T06:59:37.896390Z",
     "start_time": "2019-01-22T06:59:37.883657Z"
    },
    "colab": {
     "base_uri": "https://localhost:8080/"
    },
    "id": "5FQsalqNvnKC",
    "outputId": "c3f3d8f4-cbd5-41cf-c400-01bafcb9476e"
   },
   "outputs": [
    {
     "name": "stdout",
     "output_type": "stream",
     "text": [
      "(3,)\n",
      "(3,)\n",
      "(3,)\n",
      "(3,)\n"
     ]
    }
   ],
   "source": [
    "a = 2\n",
    "x = np.ones(3)\n",
    "y = np.zeros(3)\n",
    "print(x.shape)\n",
    "print(y.shape)\n",
    "print((a * x).shape)\n",
    "print((a * x + y).shape)"
   ]
  },
  {
   "cell_type": "markdown",
   "metadata": {
    "id": "QBEM7iZ-vnKD",
    "slideshow": {
     "slide_type": "slide"
    }
   },
   "source": [
    "## Сума та середнє\n",
    "\n",
    "У математиці ми позначаємо суму символом $\\sum$.\n",
    "Для знаходження суми елементів вектора  $\\mathbf{u}$ довжиною $n$,\n",
    "маємо обчислити $\\sum_{i=1}^n u_i$. У коді ми просто викликаємо ``np.sum()``."
   ]
  },
  {
   "cell_type": "code",
   "execution_count": 32,
   "metadata": {
    "ExecuteTime": {
     "end_time": "2019-01-22T06:59:37.911193Z",
     "start_time": "2019-01-22T06:59:37.899472Z"
    },
    "colab": {
     "base_uri": "https://localhost:8080/"
    },
    "id": "MPKB-YHTvnKE",
    "outputId": "9a860fee-447a-4adf-ead2-03edfe951574"
   },
   "outputs": [
    {
     "name": "stdout",
     "output_type": "stream",
     "text": [
      "[1. 1. 1.]\n",
      "3.0\n"
     ]
    }
   ],
   "source": [
    "print(x)\n",
    "print(np.sum(x))"
   ]
  },
  {
   "cell_type": "markdown",
   "metadata": {
    "id": "y1arw9ezvnKG",
    "slideshow": {
     "slide_type": "slide"
    }
   },
   "source": [
    "Аналогічно можна виразити суми за елементами тензорів довільної форми. Наприклад, суму елементів матриці $\\pmb{A}$ можна записати $\\sum_{i=1}^{m} \\sum_{j=1}^{n} a_{ij}$."
   ]
  },
  {
   "cell_type": "code",
   "execution_count": 33,
   "metadata": {
    "ExecuteTime": {
     "end_time": "2019-01-22T06:59:37.922313Z",
     "start_time": "2019-01-22T06:59:37.914364Z"
    },
    "colab": {
     "base_uri": "https://localhost:8080/"
    },
    "id": "F0eM5SelvnKG",
    "outputId": "fb776770-4845-4821-9957-5065a9e7348f"
   },
   "outputs": [
    {
     "data": {
      "text/plain": [
       "array([[ 0,  1,  2,  3],\n",
       "       [ 4,  5,  6,  7],\n",
       "       [ 8,  9, 10, 11],\n",
       "       [12, 13, 14, 15],\n",
       "       [16, 17, 18, 19]])"
      ]
     },
     "execution_count": 33,
     "metadata": {},
     "output_type": "execute_result"
    }
   ],
   "source": [
    "A"
   ]
  },
  {
   "cell_type": "code",
   "execution_count": 34,
   "metadata": {},
   "outputs": [
    {
     "data": {
      "text/plain": [
       "array([40, 45, 50, 55])"
      ]
     },
     "execution_count": 34,
     "metadata": {},
     "output_type": "execute_result"
    }
   ],
   "source": [
    "np.sum(A,0)"
   ]
  },
  {
   "cell_type": "code",
   "execution_count": 35,
   "metadata": {},
   "outputs": [
    {
     "data": {
      "text/plain": [
       "array([ 6, 22, 38, 54, 70])"
      ]
     },
     "execution_count": 35,
     "metadata": {},
     "output_type": "execute_result"
    }
   ],
   "source": [
    "np.sum(A,1)"
   ]
  },
  {
   "cell_type": "markdown",
   "metadata": {
    "id": "16kh09TdvnKH",
    "slideshow": {
     "slide_type": "slide"
    }
   },
   "source": [
    " \n",
    "Для знаходження середнього значення потрібно суму поділити на загальну кількість елементів тензора. У коді ми просто викликаємо``np.mean()``.\n",
    "\n",
    "$$\\mathrm{Середнє}(\\mathbf{u}) = \\frac{1}{n} \\sum_{i=1}^{n} u_i \\text{ та }\n",
    "\\mathrm{Середнє}(A) = \\frac{1}{n \\cdot m} \\sum_{i=1}^{m} \\sum_{j=1}^{n} a_{ij}$$"
   ]
  },
  {
   "cell_type": "code",
   "execution_count": 36,
   "metadata": {},
   "outputs": [
    {
     "data": {
      "text/plain": [
       "1.0"
      ]
     },
     "execution_count": 36,
     "metadata": {},
     "output_type": "execute_result"
    }
   ],
   "source": [
    "np.mean(x)"
   ]
  },
  {
   "cell_type": "code",
   "execution_count": 37,
   "metadata": {
    "ExecuteTime": {
     "end_time": "2019-01-22T06:59:37.933514Z",
     "start_time": "2019-01-22T06:59:37.925021Z"
    },
    "colab": {
     "base_uri": "https://localhost:8080/"
    },
    "id": "QohjQFBCvnKJ",
    "outputId": "86735130-573e-4214-dd8a-6bd16fc80dbf"
   },
   "outputs": [
    {
     "name": "stdout",
     "output_type": "stream",
     "text": [
      "9.5\n",
      "9.5\n"
     ]
    }
   ],
   "source": [
    "print(np.mean(A))\n",
    "print(np.sum(A) / A.size)"
   ]
  },
  {
   "cell_type": "markdown",
   "metadata": {
    "id": "iqLifh08vnKJ",
    "slideshow": {
     "slide_type": "slide"
    }
   },
   "source": [
    "## Скалярний добуток\n",
    "\n",
    "Для заданих двох векторів $\\mathbf{u}$ та $\\mathbf{v}$, скалярний добуток $\\mathbf{u}^T \\mathbf{v}$ &mdash; сума добутків відповідних елементів: $\\mathbf{u}^T \\mathbf{v} = \\sum_{i=1}^{n} u_i \\cdot v_i$."
   ]
  },
  {
   "cell_type": "code",
   "execution_count": 38,
   "metadata": {
    "ExecuteTime": {
     "end_time": "2019-01-22T06:59:37.947256Z",
     "start_time": "2019-01-22T06:59:37.936840Z"
    },
    "colab": {
     "base_uri": "https://localhost:8080/"
    },
    "id": "I8n5vpHovnKK",
    "outputId": "67b50114-602e-4574-f3b8-f22311fb6595"
   },
   "outputs": [
    {
     "name": "stdout",
     "output_type": "stream",
     "text": [
      "[1. 2. 3. 4.] [1. 1. 1. 1.] 10.0\n"
     ]
    }
   ],
   "source": [
    "x = np.arange(4) + 1.0\n",
    "y = np.ones(4)\n",
    "print(x, y, np.dot(x, y))"
   ]
  },
  {
   "cell_type": "markdown",
   "metadata": {
    "id": "FsFOPftzvnKL",
    "slideshow": {
     "slide_type": "slide"
    }
   },
   "source": [
    "Зверніть увагу, що ми можемо еквівалентно виразити скалярний добуток двох векторів ``np.dot(u, v)``, виконавши поелементне множення, а потім суму:"
   ]
  },
  {
   "cell_type": "code",
   "execution_count": 39,
   "metadata": {
    "ExecuteTime": {
     "end_time": "2019-01-22T06:59:37.958753Z",
     "start_time": "2019-01-22T06:59:37.950028Z"
    },
    "colab": {
     "base_uri": "https://localhost:8080/"
    },
    "id": "nVZpvlcfvnKL",
    "outputId": "9027a9c0-a59a-4cf2-8625-177a1e7fe42b"
   },
   "outputs": [
    {
     "data": {
      "text/plain": [
       "10.0"
      ]
     },
     "execution_count": 39,
     "metadata": {},
     "output_type": "execute_result"
    }
   ],
   "source": [
    "np.sum(x * y)"
   ]
  },
  {
   "cell_type": "markdown",
   "metadata": {
    "id": "7LM8Wr9-vnKQ",
    "slideshow": {
     "slide_type": "slide"
    }
   },
   "source": [
    "## Норма\n",
    "\n",
    "Норми вимірюють, наскільки «великим» є вектор. Вони також можуть бути визначені для матриць. Норма  $\\ell_p$ для вектора $\\mathbf{x}$:\n",
    "$$\\ell_p = ||\\mathbf{x}||_p = \\Biggl( \\sum_{i=1}^n |x_i|^p \\Biggr)^{\\frac{1}{p}}$$\n",
    "\n",
    "- Норма  $\\ell_1$ також відома як відстань міських кварталів: $||\\mathbf{x}||_1 = \\sum_{i=1}^n |x_i|$\n",
    "\n",
    "- Норма  $\\ell_2$ також відома як Евклідова відстань: $||\\mathbf{x}||_2 = \\sqrt{\\sum_{i=1}^n |x_i|^2}$\n",
    "\n",
    "- Норма  $\\ell_\\infty$ є максимумом (супремумом): $||\\mathbf{x}||_\\infty = \\max_i |x_i|$\n",
    "\n",
    "Для знаходження $\\ell_2$ норми, ми викликаємо ``np.linalg.norm()``."
   ]
  },
  {
   "cell_type": "code",
   "execution_count": 40,
   "metadata": {
    "ExecuteTime": {
     "end_time": "2019-01-22T06:59:38.023692Z",
     "start_time": "2019-01-22T06:59:38.010330Z"
    },
    "colab": {
     "base_uri": "https://localhost:8080/"
    },
    "id": "la-h49ZhvnKR",
    "outputId": "fb51ad6a-775e-4a84-c30c-eda25bf96f80"
   },
   "outputs": [
    {
     "name": "stdout",
     "output_type": "stream",
     "text": [
      "[1. 2. 3. 4.]\n"
     ]
    },
    {
     "data": {
      "text/plain": [
       "5.477225575051661"
      ]
     },
     "execution_count": 40,
     "metadata": {},
     "output_type": "execute_result"
    }
   ],
   "source": [
    "print(x)\n",
    "np.linalg.norm(x, 2)"
   ]
  },
  {
   "cell_type": "markdown",
   "metadata": {
    "id": "ZhTbL5o_vnKR",
    "slideshow": {
     "slide_type": "slide"
    }
   },
   "source": [
    "Для знаходження $\\ell_1$ норми, ми просто знаходимо абсолютні значення та обчислюємо їх суму:"
   ]
  },
  {
   "cell_type": "code",
   "execution_count": 41,
   "metadata": {
    "ExecuteTime": {
     "end_time": "2019-01-22T06:59:38.037641Z",
     "start_time": "2019-01-22T06:59:38.026628Z"
    },
    "colab": {
     "base_uri": "https://localhost:8080/"
    },
    "id": "WVy60P2dvnKT",
    "outputId": "a73cab80-ee8c-402d-f561-e2517d37972f"
   },
   "outputs": [
    {
     "data": {
      "text/plain": [
       "10.0"
      ]
     },
     "execution_count": 41,
     "metadata": {},
     "output_type": "execute_result"
    }
   ],
   "source": [
    "np.sum(np.abs(x))"
   ]
  },
  {
   "cell_type": "markdown",
   "metadata": {
    "id": "Ny8QSaGl5XsW"
   },
   "source": [
    "Або викликавши "
   ]
  },
  {
   "cell_type": "code",
   "execution_count": 42,
   "metadata": {
    "colab": {
     "base_uri": "https://localhost:8080/"
    },
    "id": "Dy_w6vlC5LCX",
    "outputId": "94c59d16-82dc-45c8-a7bf-0a1b27d154c7"
   },
   "outputs": [
    {
     "data": {
      "text/plain": [
       "10.0"
      ]
     },
     "execution_count": 42,
     "metadata": {},
     "output_type": "execute_result"
    }
   ],
   "source": [
    "np.linalg.norm(x, 1)"
   ]
  },
  {
   "cell_type": "markdown",
   "metadata": {
    "id": "HbWny-tyvnKM",
    "slideshow": {
     "slide_type": "slide"
    }
   },
   "source": [
    "## Добуток матриця-вектор\n",
    "\n",
    "$$A=\\begin{pmatrix}\n",
    " a_{11} & a_{12} & \\cdots & a_{1m} \\\\\n",
    " a_{21} & a_{22} & \\cdots & a_{2m} \\\\\n",
    "\\vdots & \\vdots & \\ddots & \\vdots \\\\\n",
    " a_{n1} & a_{n2} & \\cdots & a_{nm} \\\\\n",
    "\\end{pmatrix},\\quad\\mathbf{x}=\\begin{pmatrix}\n",
    " x_{1}  \\\\\n",
    " x_{2} \\\\\n",
    "\\vdots\\\\\n",
    " x_{m}\\\\\n",
    "\\end{pmatrix} $$\n",
    "\n",
    "$$A\\mathbf{x}=\n",
    "\\begin{pmatrix}\n",
    "\\cdots & \\mathbf{a}^T_{1} &...  \\\\\n",
    "\\cdots & \\mathbf{a}^T_{2} & \\cdots \\\\\n",
    " & \\vdots &  \\\\\n",
    " \\cdots &\\mathbf{a}^T_n & \\cdots \\\\\n",
    "\\end{pmatrix}\n",
    "\\begin{pmatrix}\n",
    " x_{1}  \\\\\n",
    " x_{2} \\\\\n",
    "\\vdots\\\\\n",
    " x_{m}\\\\\n",
    "\\end{pmatrix}\n",
    "= \\begin{pmatrix}\n",
    " \\mathbf{a}^T_{1} \\mathbf{x}  \\\\\n",
    " \\mathbf{a}^T_{2} \\mathbf{x} \\\\\n",
    "\\vdots\\\\\n",
    " \\mathbf{a}^T_{n} \\mathbf{x}\\\\\n",
    "\\end{pmatrix}\n",
    "$$\n",
    "\n",
    "Отже, ми можемо розглядати множення на матрицю $A\\in \\mathbb{R}^{m \\times n}$ як перетворення, яке проектує вектори з $\\mathbb{R}^{m}$ в $\\mathbb{R}^{n}$.\n"
   ]
  },
  {
   "cell_type": "markdown",
   "metadata": {
    "id": "VE56LuHPvnKN",
    "slideshow": {
     "slide_type": "-"
    }
   },
   "source": [
    "Ми також можемо використовувати матрично-векторні добутки для опису обчислень кожного шару нейронної мережі.\n",
    "\n",
    "\n",
    "Для знаходження матрично-векторних добутків, ми використовуємо функцію ``np.dot()`` як і для скалярних добутків."
   ]
  },
  {
   "cell_type": "code",
   "execution_count": 43,
   "metadata": {
    "ExecuteTime": {
     "end_time": "2019-01-22T06:59:37.972681Z",
     "start_time": "2019-01-22T06:59:37.961622Z"
    },
    "colab": {
     "base_uri": "https://localhost:8080/"
    },
    "id": "2v_I1IyAvnKN",
    "outputId": "2cc3e4c4-6daf-4499-b775-d25b0f6802f9",
    "slideshow": {
     "slide_type": "slide"
    }
   },
   "outputs": [
    {
     "data": {
      "text/plain": [
       "array([[ 0,  1,  2,  3],\n",
       "       [ 4,  5,  6,  7],\n",
       "       [ 8,  9, 10, 11],\n",
       "       [12, 13, 14, 15],\n",
       "       [16, 17, 18, 19]])"
      ]
     },
     "execution_count": 43,
     "metadata": {},
     "output_type": "execute_result"
    }
   ],
   "source": [
    "A = A.reshape((5,4))\n",
    "A"
   ]
  },
  {
   "cell_type": "code",
   "execution_count": 44,
   "metadata": {
    "colab": {
     "base_uri": "https://localhost:8080/"
    },
    "id": "roDx1LmI1lBW",
    "outputId": "c0f6fb03-a45e-4c30-8ef1-cdd95e33bbad"
   },
   "outputs": [
    {
     "data": {
      "text/plain": [
       "array([1., 2., 3., 4.])"
      ]
     },
     "execution_count": 44,
     "metadata": {},
     "output_type": "execute_result"
    }
   ],
   "source": [
    "x"
   ]
  },
  {
   "cell_type": "code",
   "execution_count": 45,
   "metadata": {
    "colab": {
     "base_uri": "https://localhost:8080/"
    },
    "id": "DzittmVk1n3X",
    "outputId": "61c3d750-6643-4b45-fe79-4d5201b680a5"
   },
   "outputs": [
    {
     "data": {
      "text/plain": [
       "array([ 20.,  60., 100., 140., 180.])"
      ]
     },
     "execution_count": 45,
     "metadata": {},
     "output_type": "execute_result"
    }
   ],
   "source": [
    "np.dot(A, x)"
   ]
  },
  {
   "cell_type": "markdown",
   "metadata": {
    "id": "4RnQP_yRvnKO",
    "slideshow": {
     "slide_type": "slide"
    }
   },
   "source": [
    "## Добуток матриця-матриця\n",
    "\n",
    "Якщо ви зрозуміли, як працює множення матриці на вектор, то множення матриці на матрицю не викличе складнощів.\n",
    "\n",
    "Нехай маємо матриці, $A \\in \\mathbb{R}^{n \\times k}$ та $B \\in \\mathbb{R}^{k \\times m}$:\n",
    "\n",
    "$$A=\\begin{pmatrix}\n",
    " a_{11} & a_{12} & \\cdots & a_{1k} \\\\\n",
    " a_{21} & a_{22} & \\cdots & a_{2k} \\\\\n",
    "\\vdots & \\vdots & \\ddots & \\vdots \\\\\n",
    " a_{n1} & a_{n2} & \\cdots & a_{nk} \\\\\n",
    "\\end{pmatrix},\\quad\n",
    "B=\\begin{pmatrix}\n",
    " b_{11} & b_{12} & \\cdots & b_{1m} \\\\\n",
    " b_{21} & b_{22} & \\cdots & b_{2m} \\\\\n",
    "\\vdots & \\vdots & \\ddots & \\vdots \\\\\n",
    " b_{k1} & b_{k2} & \\cdots & b_{km} \\\\\n",
    "\\end{pmatrix}$$"
   ]
  },
  {
   "cell_type": "markdown",
   "metadata": {
    "id": "3uehYJgVvnKP"
   },
   "source": [
    "$$AB = \\begin{pmatrix}\n",
    "\\cdots & \\mathbf{a}^T_{1} &...  \\\\\n",
    "\\cdots & \\mathbf{a}^T_{2} & \\cdots \\\\\n",
    " & \\vdots &  \\\\\n",
    " \\cdots &\\mathbf{a}^T_n & \\cdots \\\\\n",
    "\\end{pmatrix}\n",
    "\\begin{pmatrix}\n",
    "\\vdots & \\vdots &  & \\vdots \\\\\n",
    " \\mathbf{b}_{1} & \\mathbf{b}_{2} & \\cdots & \\mathbf{b}_{m} \\\\\n",
    " \\vdots & \\vdots &  &\\vdots\\\\\n",
    "\\end{pmatrix}\n",
    "= \\begin{pmatrix}\n",
    "\\mathbf{a}^T_{1} \\mathbf{b}_1 & \\mathbf{a}^T_{1}\\mathbf{b}_2& \\cdots & \\mathbf{a}^T_{1} \\mathbf{b}_m \\\\\n",
    " \\mathbf{a}^T_{2}\\mathbf{b}_1 & \\mathbf{a}^T_{2} \\mathbf{b}_2 & \\cdots & \\mathbf{a}^T_{2} \\mathbf{b}_m \\\\\n",
    " \\vdots & \\vdots & \\ddots &\\vdots\\\\\n",
    "\\mathbf{a}^T_{n} \\mathbf{b}_1 & \\mathbf{a}^T_{n}\\mathbf{b}_2& \\cdots& \\mathbf{a}^T_{n} \\mathbf{b}_m\n",
    "\\end{pmatrix}\n",
    "$$\n",
    "\n",
    "Ми можемо розглядати добуток двох матриць $AB$ просто як виконання $m$ добутків матриця-вектор та об’єднання результатів."
   ]
  },
  {
   "cell_type": "code",
   "execution_count": 46,
   "metadata": {
    "slideshow": {
     "slide_type": "slide"
    }
   },
   "outputs": [
    {
     "data": {
      "text/plain": [
       "array([[ 0,  1,  2,  3],\n",
       "       [ 4,  5,  6,  7],\n",
       "       [ 8,  9, 10, 11],\n",
       "       [12, 13, 14, 15],\n",
       "       [16, 17, 18, 19]])"
      ]
     },
     "execution_count": 46,
     "metadata": {},
     "output_type": "execute_result"
    }
   ],
   "source": [
    "A"
   ]
  },
  {
   "cell_type": "code",
   "execution_count": 47,
   "metadata": {
    "ExecuteTime": {
     "end_time": "2019-01-22T06:59:38.003462Z",
     "start_time": "2019-01-22T06:59:37.989098Z"
    },
    "colab": {
     "base_uri": "https://localhost:8080/"
    },
    "id": "QGxzxESSvnKP",
    "outputId": "1913a4f7-228e-4e08-bc4a-3df110ee06b4",
    "slideshow": {
     "slide_type": "-"
    }
   },
   "outputs": [
    {
     "data": {
      "text/plain": [
       "array([[ 6.,  6.,  6.],\n",
       "       [22., 22., 22.],\n",
       "       [38., 38., 38.],\n",
       "       [54., 54., 54.],\n",
       "       [70., 70., 70.]])"
      ]
     },
     "execution_count": 47,
     "metadata": {},
     "output_type": "execute_result"
    }
   ],
   "source": [
    "B = np.ones(shape=(4, 3))\n",
    "np.dot(A, B)"
   ]
  },
  {
   "cell_type": "markdown",
   "metadata": {
    "slideshow": {
     "slide_type": "slide"
    }
   },
   "source": [
    "<a href=\"https://colab.research.google.com/github/YKochura/ai-lab/blob/main/math/linear_algebra.ipynb\" target=\"_parent\"><img src=\"https://colab.research.google.com/assets/colab-badge.svg\" alt=\"Open In Colab\"/></a>"
   ]
  }
 ],
 "metadata": {
  "celltoolbar": "Slideshow",
  "colab": {
   "provenance": []
  },
  "kernelspec": {
   "display_name": "Python 3 (ipykernel)",
   "language": "python",
   "name": "python3"
  },
  "language_info": {
   "codemirror_mode": {
    "name": "ipython",
    "version": 3
   },
   "file_extension": ".py",
   "mimetype": "text/x-python",
   "name": "python",
   "nbconvert_exporter": "python",
   "pygments_lexer": "ipython3",
   "version": "3.9.12"
  }
 },
 "nbformat": 4,
 "nbformat_minor": 1
}
